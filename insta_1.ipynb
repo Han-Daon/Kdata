{
 "cells": [
  {
   "cell_type": "markdown",
   "metadata": {},
   "source": [
    "### 셀레니움 import"
   ]
  },
  {
   "cell_type": "code",
   "execution_count": 1,
   "metadata": {},
   "outputs": [
    {
     "name": "stdout",
     "output_type": "stream",
     "text": [
      "Requirement already satisfied: selenium in c:\\users\\한수민\\appdata\\local\\programs\\python\\python311\\lib\\site-packages (4.11.2)\n",
      "Requirement already satisfied: urllib3[socks]<3,>=1.26 in c:\\users\\한수민\\appdata\\local\\programs\\python\\python311\\lib\\site-packages (from selenium) (2.0.4)\n",
      "Requirement already satisfied: trio~=0.17 in c:\\users\\한수민\\appdata\\local\\programs\\python\\python311\\lib\\site-packages (from selenium) (0.22.2)\n",
      "Requirement already satisfied: trio-websocket~=0.9 in c:\\users\\한수민\\appdata\\local\\programs\\python\\python311\\lib\\site-packages (from selenium) (0.10.3)\n",
      "Requirement already satisfied: certifi>=2021.10.8 in c:\\users\\한수민\\appdata\\local\\programs\\python\\python311\\lib\\site-packages (from selenium) (2023.7.22)\n",
      "Requirement already satisfied: attrs>=20.1.0 in c:\\users\\한수민\\appdata\\local\\programs\\python\\python311\\lib\\site-packages (from trio~=0.17->selenium) (23.1.0)\n",
      "Requirement already satisfied: sortedcontainers in c:\\users\\한수민\\appdata\\local\\programs\\python\\python311\\lib\\site-packages (from trio~=0.17->selenium) (2.4.0)\n",
      "Requirement already satisfied: idna in c:\\users\\한수민\\appdata\\local\\programs\\python\\python311\\lib\\site-packages (from trio~=0.17->selenium) (3.4)\n",
      "Requirement already satisfied: outcome in c:\\users\\한수민\\appdata\\local\\programs\\python\\python311\\lib\\site-packages (from trio~=0.17->selenium) (1.2.0)\n",
      "Requirement already satisfied: sniffio in c:\\users\\한수민\\appdata\\local\\programs\\python\\python311\\lib\\site-packages (from trio~=0.17->selenium) (1.3.0)\n",
      "Requirement already satisfied: cffi>=1.14 in c:\\users\\한수민\\appdata\\local\\programs\\python\\python311\\lib\\site-packages (from trio~=0.17->selenium) (1.15.1)\n",
      "Requirement already satisfied: exceptiongroup in c:\\users\\한수민\\appdata\\local\\programs\\python\\python311\\lib\\site-packages (from trio-websocket~=0.9->selenium) (1.1.2)\n",
      "Requirement already satisfied: wsproto>=0.14 in c:\\users\\한수민\\appdata\\local\\programs\\python\\python311\\lib\\site-packages (from trio-websocket~=0.9->selenium) (1.2.0)\n",
      "Requirement already satisfied: pysocks!=1.5.7,<2.0,>=1.5.6 in c:\\users\\한수민\\appdata\\local\\programs\\python\\python311\\lib\\site-packages (from urllib3[socks]<3,>=1.26->selenium) (1.7.1)\n",
      "Requirement already satisfied: pycparser in c:\\users\\한수민\\appdata\\local\\programs\\python\\python311\\lib\\site-packages (from cffi>=1.14->trio~=0.17->selenium) (2.21)\n",
      "Requirement already satisfied: h11<1,>=0.9.0 in c:\\users\\한수민\\appdata\\local\\programs\\python\\python311\\lib\\site-packages (from wsproto>=0.14->trio-websocket~=0.9->selenium) (0.14.0)\n",
      "Note: you may need to restart the kernel to use updated packages.\n"
     ]
    }
   ],
   "source": [
    "pip install selenium"
   ]
  },
  {
   "cell_type": "code",
   "execution_count": 32,
   "metadata": {},
   "outputs": [
    {
     "data": {
      "text/plain": [
       "'4.11.2'"
      ]
     },
     "execution_count": 32,
     "metadata": {},
     "output_type": "execute_result"
    }
   ],
   "source": [
    "import selenium\n",
    "selenium.__version__"
   ]
  },
  {
   "cell_type": "code",
   "execution_count": 33,
   "metadata": {},
   "outputs": [],
   "source": [
    "#패키지 임포트\n",
    "from selenium import webdriver\n",
    "from selenium.webdriver.edge.service import Service\n",
    "from selenium.webdriver.edge.options import Options\n",
    "from bs4 import BeautifulSoup\n",
    "user_agent = 'Mozilla/5.0 (Windows NT 10.0; Win64; x64) AppleWebKit/537.36 (KHTML, like Gecko) Chrome/114.0.0.0 Safari/537.36 Edg/114.0.1823.58'\n",
    "edge_service = Service('C:\\Windows\\msedgedriver.exe')\n",
    "#webdriver.Edge('C:/Users/Neverland/Downloads/edgedriver_win64/msedgedriver.exe')"
   ]
  },
  {
   "cell_type": "code",
   "execution_count": 35,
   "metadata": {},
   "outputs": [],
   "source": [
    "edge_options = Options()\n",
    "edge_options.add_argument(f'user-agent={user_agent}')\n",
    "driver = webdriver.Edge(service=edge_service, options=edge_options)\n",
    "\n",
    "driver.get('https://www.instagram.com/')"
   ]
  },
  {
   "cell_type": "markdown",
   "metadata": {},
   "source": [
    "### 인스타 로그인"
   ]
  },
  {
   "cell_type": "code",
   "execution_count": 36,
   "metadata": {},
   "outputs": [
    {
     "ename": "TimeoutException",
     "evalue": "Message: \nStacktrace:\nBacktrace:\n\tGetHandleVerifier [0x00007FF6C3D15492+69586]\n\tMicrosoft::Applications::Events::EventProperty::~EventProperty [0x00007FF6C3CA56D2+760338]\n\t(No symbol) [0x00007FF6C3A5B8CC]\n\t(No symbol) [0x00007FF6C3AA2C79]\n\t(No symbol) [0x00007FF6C3AA2D8A]\n\t(No symbol) [0x00007FF6C3ADF007]\n\t(No symbol) [0x00007FF6C3AC2DEF]\n\t(No symbol) [0x00007FF6C3A96A11]\n\t(No symbol) [0x00007FF6C3ADC241]\n\t(No symbol) [0x00007FF6C3AC2B83]\n\t(No symbol) [0x00007FF6C3A9589E]\n\t(No symbol) [0x00007FF6C3A94B6B]\n\t(No symbol) [0x00007FF6C3A96024]\n\tMicrosoft::Applications::Events::ILogManager::DispatchEventBroadcast [0x00007FF6C3EED299+1294553]\n\t(No symbol) [0x00007FF6C3B149F4]\n\tMicrosoft::Applications::Events::EventProperty::~EventProperty [0x00007FF6C3BF3DF1+33073]\n\tMicrosoft::Applications::Events::EventProperty::~EventProperty [0x00007FF6C3BEC409+1865]\n\tMicrosoft::Applications::Events::ILogManager::DispatchEventBroadcast [0x00007FF6C3EEBE71+1289393]\n\tMicrosoft::Applications::Events::ILogConfiguration::operator* [0x00007FF6C3CADCD8+20184]\n\tMicrosoft::Applications::Events::ILogConfiguration::operator* [0x00007FF6C3CAA364+5476]\n\tMicrosoft::Applications::Events::ILogConfiguration::operator* [0x00007FF6C3CAA45C+5724]\n\tMicrosoft::Applications::Events::EventProperty::~EventProperty [0x00007FF6C3C9ED11+733265]\n\tBaseThreadInitThunk [0x00007FFF521726AD+29]\n\tRtlUserThreadStart [0x00007FFF53BAAA68+40]\n",
     "output_type": "error",
     "traceback": [
      "\u001b[1;31m---------------------------------------------------------------------------\u001b[0m",
      "\u001b[1;31mTimeoutException\u001b[0m                          Traceback (most recent call last)",
      "Cell \u001b[1;32mIn[36], line 14\u001b[0m\n\u001b[0;32m     11\u001b[0m password \u001b[39m=\u001b[39m \u001b[39m'\u001b[39m\u001b[39mhan980406!\u001b[39m\u001b[39m'\u001b[39m\n\u001b[0;32m     13\u001b[0m \u001b[39m#요소 찾아서 키 보내기\u001b[39;00m\n\u001b[1;32m---> 14\u001b[0m username_input \u001b[39m=\u001b[39m WebDriverWait(driver, \u001b[39m10\u001b[39;49m)\u001b[39m.\u001b[39;49muntil(\n\u001b[0;32m     15\u001b[0m     EC\u001b[39m.\u001b[39;49mpresence_of_element_located((By\u001b[39m.\u001b[39;49mNAME, \u001b[39m'\u001b[39;49m\u001b[39mda.zzle_.on\u001b[39;49m\u001b[39m'\u001b[39;49m))\n\u001b[0;32m     16\u001b[0m )\n\u001b[0;32m     17\u001b[0m username_input\u001b[39m.\u001b[39msend_keys(username)\n\u001b[0;32m     19\u001b[0m password_input \u001b[39m=\u001b[39m WebDriverWait(driver, \u001b[39m10\u001b[39m)\u001b[39m.\u001b[39muntil(\n\u001b[0;32m     20\u001b[0m     EC\u001b[39m.\u001b[39mpresence_of_element_located((By\u001b[39m.\u001b[39mNAME, \u001b[39m'\u001b[39m\u001b[39mhan980406!\u001b[39m\u001b[39m'\u001b[39m))\n\u001b[0;32m     21\u001b[0m )\n",
      "File \u001b[1;32mc:\\Users\\한수민\\AppData\\Local\\Programs\\Python\\Python311\\Lib\\site-packages\\selenium\\webdriver\\support\\wait.py:95\u001b[0m, in \u001b[0;36mWebDriverWait.until\u001b[1;34m(self, method, message)\u001b[0m\n\u001b[0;32m     93\u001b[0m     \u001b[39mif\u001b[39;00m time\u001b[39m.\u001b[39mmonotonic() \u001b[39m>\u001b[39m end_time:\n\u001b[0;32m     94\u001b[0m         \u001b[39mbreak\u001b[39;00m\n\u001b[1;32m---> 95\u001b[0m \u001b[39mraise\u001b[39;00m TimeoutException(message, screen, stacktrace)\n",
      "\u001b[1;31mTimeoutException\u001b[0m: Message: \nStacktrace:\nBacktrace:\n\tGetHandleVerifier [0x00007FF6C3D15492+69586]\n\tMicrosoft::Applications::Events::EventProperty::~EventProperty [0x00007FF6C3CA56D2+760338]\n\t(No symbol) [0x00007FF6C3A5B8CC]\n\t(No symbol) [0x00007FF6C3AA2C79]\n\t(No symbol) [0x00007FF6C3AA2D8A]\n\t(No symbol) [0x00007FF6C3ADF007]\n\t(No symbol) [0x00007FF6C3AC2DEF]\n\t(No symbol) [0x00007FF6C3A96A11]\n\t(No symbol) [0x00007FF6C3ADC241]\n\t(No symbol) [0x00007FF6C3AC2B83]\n\t(No symbol) [0x00007FF6C3A9589E]\n\t(No symbol) [0x00007FF6C3A94B6B]\n\t(No symbol) [0x00007FF6C3A96024]\n\tMicrosoft::Applications::Events::ILogManager::DispatchEventBroadcast [0x00007FF6C3EED299+1294553]\n\t(No symbol) [0x00007FF6C3B149F4]\n\tMicrosoft::Applications::Events::EventProperty::~EventProperty [0x00007FF6C3BF3DF1+33073]\n\tMicrosoft::Applications::Events::EventProperty::~EventProperty [0x00007FF6C3BEC409+1865]\n\tMicrosoft::Applications::Events::ILogManager::DispatchEventBroadcast [0x00007FF6C3EEBE71+1289393]\n\tMicrosoft::Applications::Events::ILogConfiguration::operator* [0x00007FF6C3CADCD8+20184]\n\tMicrosoft::Applications::Events::ILogConfiguration::operator* [0x00007FF6C3CAA364+5476]\n\tMicrosoft::Applications::Events::ILogConfiguration::operator* [0x00007FF6C3CAA45C+5724]\n\tMicrosoft::Applications::Events::EventProperty::~EventProperty [0x00007FF6C3C9ED11+733265]\n\tBaseThreadInitThunk [0x00007FFF521726AD+29]\n\tRtlUserThreadStart [0x00007FFF53BAAA68+40]\n"
     ]
    }
   ],
   "source": [
    "#id로 요소 찾기\n",
    "from selenium import webdriver\n",
    "from selenium.webdriver.common.keys import Keys\n",
    "from selenium.webdriver.common.by import By\n",
    "from selenium.webdriver.support.ui import WebDriverWait\n",
    "from selenium.webdriver.support import expected_conditions as EC\n",
    "import time\n",
    "\n",
    "# Instagram 계정 정보를 입력하세요.\n",
    "username = 'ID'\n",
    "password = 'password'\n",
    "\n",
    "#요소 찾아서 키 보내기\n",
    "username_input = WebDriverWait(driver, 10).until(\n",
    "    EC.presence_of_element_located((By.NAME, 'ID'))\n",
    ")\n",
    "username_input.send_keys(username)\n",
    "\n",
    "password_input = WebDriverWait(driver, 10).until(\n",
    "    EC.presence_of_element_located((By.NAME, 'password'))\n",
    ")\n",
    "password_input.send_keys(password)"
   ]
  },
  {
   "cell_type": "code",
   "execution_count": 10,
   "metadata": {},
   "outputs": [
    {
     "ename": "NameError",
     "evalue": "name 'password_input' is not defined",
     "output_type": "error",
     "traceback": [
      "\u001b[1;31m---------------------------------------------------------------------------\u001b[0m",
      "\u001b[1;31mNameError\u001b[0m                                 Traceback (most recent call last)",
      "Cell \u001b[1;32mIn[10], line 2\u001b[0m\n\u001b[0;32m      1\u001b[0m \u001b[39m# 로그인 버튼을 누릅니다.\u001b[39;00m\n\u001b[1;32m----> 2\u001b[0m password_input\u001b[39m.\u001b[39msend_keys(Keys\u001b[39m.\u001b[39mRETURN)\n",
      "\u001b[1;31mNameError\u001b[0m: name 'password_input' is not defined"
     ]
    }
   ],
   "source": [
    "# 로그인 버튼을 누릅니다.\n",
    "password_input.send_keys(Keys.RETURN)"
   ]
  },
  {
   "cell_type": "markdown",
   "metadata": {},
   "source": [
    "### 원하는 쇼핑몰 크롤링해서 저장해보기"
   ]
  },
  {
   "cell_type": "code",
   "execution_count": 37,
   "metadata": {},
   "outputs": [
    {
     "name": "stdout",
     "output_type": "stream",
     "text": [
      "Requirement already satisfied: requests in c:\\users\\한수민\\appdata\\local\\programs\\python\\python311\\lib\\site-packages (2.31.0)Note: you may need to restart the kernel to use updated packages.\n",
      "\n",
      "Requirement already satisfied: charset-normalizer<4,>=2 in c:\\users\\한수민\\appdata\\local\\programs\\python\\python311\\lib\\site-packages (from requests) (3.2.0)\n",
      "Requirement already satisfied: idna<4,>=2.5 in c:\\users\\한수민\\appdata\\local\\programs\\python\\python311\\lib\\site-packages (from requests) (3.4)\n",
      "Requirement already satisfied: urllib3<3,>=1.21.1 in c:\\users\\한수민\\appdata\\local\\programs\\python\\python311\\lib\\site-packages (from requests) (2.0.4)\n",
      "Requirement already satisfied: certifi>=2017.4.17 in c:\\users\\한수민\\appdata\\local\\programs\\python\\python311\\lib\\site-packages (from requests) (2023.7.22)\n"
     ]
    }
   ],
   "source": [
    "pip install requests"
   ]
  },
  {
   "cell_type": "code",
   "execution_count": 209,
   "metadata": {},
   "outputs": [],
   "source": [
    "import os \n",
    "#로그인 필수 -> 만약 안되어있다면 수작업으로 로그인\n",
    "instagram_account_url = 'https://www.instagram.com/~~~/' #인스타계정url\n",
    "\n",
    "# 원하는 쇼핑몰 인스타 계정으로 이동합니다.\n",
    "driver.get(instagram_account_url)\n",
    "\n",
    "# 사진을 저장할 디렉토리를 생성합니다.\n",
    "image_folder = 'image/심플베이직' #바탕화면에\n",
    "if not os.path.exists(image_folder):\n",
    "    os.makedirs(image_folder)\n",
    "\n"
   ]
  },
  {
   "cell_type": "code",
   "execution_count": 210,
   "metadata": {},
   "outputs": [],
   "source": [
    "import requests\n",
    "\n",
    "# 이미지 URL을 수집합니다.\n",
    "num_images = 40 #이미지 40개 크롤\n",
    "image_links = set()\n",
    "\n",
    "while len(image_links) < num_images:\n",
    "    images = WebDriverWait(driver, 10).until(\n",
    "        EC.presence_of_all_elements_located((By.CSS_SELECTOR, \"img[style='object-fit: cover;']\"))\n",
    "    )\n",
    "    for image in images:\n",
    "        if len(image_links) >= num_images:\n",
    "            break\n",
    "        image_url = image.get_attribute('src')\n",
    "        if image_url not in image_links:\n",
    "            image_links.add(image_url)\n",
    "    last_image = images[-1]\n",
    "    driver.execute_script('arguments[0].scrollIntoView();', last_image)\n",
    "    time.sleep(2)\n",
    "\n",
    "# 이미지를 저장합니다.\n",
    "if not os.path.exists(image_folder):\n",
    "    os.makedirs(image_folder)\n",
    "\n",
    "for idx, image_url in enumerate(image_links):\n",
    "    response = requests.get(image_url)\n",
    "    with open(f'{image_folder}/image_{idx}.jpg', 'wb') as f:\n",
    "        f.write(response.content)"
   ]
  },
  {
   "cell_type": "code",
   "execution_count": null,
   "metadata": {},
   "outputs": [],
   "source": []
  }
 ],
 "metadata": {
  "kernelspec": {
   "display_name": "Python 3",
   "language": "python",
   "name": "python3"
  },
  "language_info": {
   "codemirror_mode": {
    "name": "ipython",
    "version": 3
   },
   "file_extension": ".py",
   "mimetype": "text/x-python",
   "name": "python",
   "nbconvert_exporter": "python",
   "pygments_lexer": "ipython3",
   "version": "3.11.2"
  },
  "orig_nbformat": 4
 },
 "nbformat": 4,
 "nbformat_minor": 2
}
